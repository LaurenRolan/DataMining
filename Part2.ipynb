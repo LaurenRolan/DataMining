{
 "cells": [
  {
   "cell_type": "markdown",
   "metadata": {},
   "source": [
    "# Practical Exercise: Search Engines for Multimedias\n",
    "## Part 2: Implementing our own descriptors\n",
    "The objective of this notebook is to use the clusters furnished and the K-Means algorithm so we can group the descriptors of each image, and then apply the Bow and VLAD classification.\n",
    "\n",
    "The libraries utilised for this Practical Exercise are given bellow."
   ]
  },
  {
   "cell_type": "code",
   "execution_count": 1,
   "metadata": {},
   "outputs": [],
   "source": [
    "import numpy as np\n",
    "import pandas as pd\n",
    "import time\n",
    "from sklearn.preprocessing import normalize\n",
    "from sklearn.cluster import KMeans\n",
    "from sklearn.metrics import average_precision_score\n",
    "import scipy.spatial.distance as distance\n",
    "import matplotlib.pyplot as plt"
   ]
  },
  {
   "cell_type": "markdown",
   "metadata": {},
   "source": [
    "Here we take some functions developed in Part 1. Further information about them can be found in the previous Part."
   ]
  },
  {
   "cell_type": "code",
   "execution_count": 2,
   "metadata": {},
   "outputs": [],
   "source": [
    "def getListOfSimilarImages(request, database):\n",
    "    distances = distance.cdist(request[None, :], \n",
    "                               np.asmatrix(database), \n",
    "                               metric='euclidean').transpose()\n",
    "    distances = pd.DataFrame(distances)\n",
    "    distances = distances.sort_values(distances.columns[0])\n",
    "    return distances.index\n",
    "\n",
    "def getAllSimilar(database, indexes):\n",
    "    distances = []\n",
    "    for i in range(len(indexes)):\n",
    "        distances.append(getListOfSimilarImages(database[indexes[i]],\n",
    "                                           database))\n",
    "    return np.array(distances)\n",
    "\n",
    "def AP(y_true, d_pred):\n",
    "    Nc = np.sum(y_true)\n",
    "    ap = 0\n",
    "    true = np.where(y_true)\n",
    "    positions = np.where(np.in1d(d_pred, true))[0]\n",
    "    for i in range(Nc):\n",
    "        ap += (i + 1) / (positions[i] + 1)\n",
    "    if(Nc == 0):\n",
    "        return 0\n",
    "    ap /= Nc\n",
    "    return ap\n",
    "\n",
    "def MAP(y_true, d_pred):\n",
    "    MAP = 0\n",
    "    for i in range(len(y_true)):\n",
    "        MAP += AP(y_true[i], d_pred[i])\n",
    "    return MAP / len(y_true)\n",
    "\n",
    "def getTruthMatrix(requests, results, Nc):\n",
    "    true_vals = []\n",
    "    for j in range(len(requests)):\n",
    "        y_true = np.zeros(results.shape[0], dtype=bool)\n",
    "        pred_v = np.zeros(results.shape[0], dtype=bool)\n",
    "        if(j != 0):\n",
    "            y_true[requests[j]:Nc[j]+requests[j]] = True\n",
    "        else:\n",
    "            y_true[requests[j]:Nc[j]+requests[j]+1] = True\n",
    "        y_true.astype(bool)\n",
    "        true_vals.append(y_true)\n",
    "    return true_vals"
   ]
  },
  {
   "cell_type": "markdown",
   "metadata": {},
   "source": [
    "Here we retrieve the images 1 to 257 from the original database. There are 1491 in total, by my computer did not have memory enough to store all descriptors."
   ]
  },
  {
   "cell_type": "code",
   "execution_count": 3,
   "metadata": {},
   "outputs": [],
   "source": [
    "database = []\n",
    "for image in range(1, 257):\n",
    "    descriptor = np.loadtxt(\"../data/sifts/sift1to256/im\" + str(image) + \".txt\")\n",
    "    database.append(descriptor)"
   ]
  },
  {
   "cell_type": "markdown",
   "metadata": {},
   "source": [
    "In the cell bellow we get all clusters and requests, as we did in the previous Part."
   ]
  },
  {
   "cell_type": "code",
   "execution_count": 4,
   "metadata": {},
   "outputs": [],
   "source": [
    "f = open(\"../data/data_idx.txt\", \"r\")\n",
    "clusters = [int(x) for x in f.readline().split()]\n",
    "clusters = np.asarray(clusters)\n",
    "image_cluster = pd.DataFrame(clusters)\n",
    "clusters, requests, Nc = np.unique(clusters, return_index=True,\n",
    "                                      return_counts=True)\n",
    "requests = requests[requests < 256]\n",
    "Nc = Nc[:len(requests)]"
   ]
  },
  {
   "cell_type": "markdown",
   "metadata": {},
   "source": [
    "The function bellow retrieves all the centroids for a certain cluster size. "
   ]
  },
  {
   "cell_type": "code",
   "execution_count": 5,
   "metadata": {},
   "outputs": [],
   "source": [
    "def getCentroids(cluster):\n",
    "    f = open(\"../data/centroids/K\" + str(cluster) + \".txt\", \"r\")\n",
    "    matrix = []\n",
    "    for line in f:\n",
    "        vector = [float(x) for x in line.split()]\n",
    "        matrix.append(vector)\n",
    "    k_matrix = np.asmatrix(matrix)\n",
    "    return pd.DataFrame(k_matrix)"
   ]
  },
  {
   "cell_type": "markdown",
   "metadata": {},
   "source": [
    "Here we get all clusters in the _data/centroids_ folder. It starts in k = 8 ($2^3$) and finishes at k = 2048 ($2^{11}$)."
   ]
  },
  {
   "cell_type": "code",
   "execution_count": 6,
   "metadata": {},
   "outputs": [],
   "source": [
    "clusters = []\n",
    "for i in np.logspace(3, 11, num=9, base=2):\n",
    "    clusters.append(getCentroids(int(i)))"
   ]
  },
  {
   "cell_type": "markdown",
   "metadata": {},
   "source": [
    "The clustering function applies the K-Means algorithm from SKLearn to the chosen database, given a certain number of clusters."
   ]
  },
  {
   "cell_type": "code",
   "execution_count": 7,
   "metadata": {},
   "outputs": [
    {
     "name": "stdout",
     "output_type": "stream",
     "text": [
      "[2 2 2 ... 1 1 1]\n"
     ]
    }
   ],
   "source": [
    "def clustering(database, clusters):\n",
    "    K = clusters.shape[0]\n",
    "    kmeans_model = KMeans(n_clusters=K)\n",
    "    kmeans_model.cluster_centers_ = clusters\n",
    "    results = []\n",
    "    for request in database:\n",
    "        results.append(kmeans_model.predict(request))\n",
    "    return results\n",
    "\n",
    "clustered = clustering(database, clusters[0]) #k = 8\n",
    "print(clustered[0])"
   ]
  },
  {
   "cell_type": "markdown",
   "metadata": {},
   "source": [
    "The __BoW__ function takes the descriptors that are assigned to the clusters ( _clustered_ ) and the total number of clusters. It returns a matrix $N_{images} \\times N_{clusters}$."
   ]
  },
  {
   "cell_type": "code",
   "execution_count": 8,
   "metadata": {},
   "outputs": [],
   "source": [
    "def BoW(clustered, n_clusters):\n",
    "    results = []\n",
    "    for request in clustered:\n",
    "        c = [np.count_nonzero(request == i) for i in range(n_clusters)]\n",
    "        results.append(c)\n",
    "    return np.array(results)"
   ]
  },
  {
   "cell_type": "markdown",
   "metadata": {},
   "source": [
    "Here we calculate de MAP of the BoW descriptor using 8 clusters. It has a smaller precision when compared to the previous Part. On may assume that it is caused by the reduced number of images analysed."
   ]
  },
  {
   "cell_type": "code",
   "execution_count": 20,
   "metadata": {},
   "outputs": [
    {
     "name": "stdout",
     "output_type": "stream",
     "text": [
      "MAP for BOW : 0.19549930019586784\n"
     ]
    }
   ],
   "source": [
    "### Testing MAP of BoW\n",
    "bow = BoW(clustered, 8)\n",
    "results = getAllSimilar(bow, requests)\n",
    "true_vals = getTruthMatrix(requests, results, Nc)\n",
    "val = MAP(true_vals, results)\n",
    "print(\"MAP for BOW : \" + str(val))"
   ]
  },
  {
   "cell_type": "markdown",
   "metadata": {},
   "source": [
    "Here we implement the __VLAD__ function. It takes the whole database, the clusters used in the KMeans algorithm, and the relation between the clusters and each request. It returns a matrix $N_{images} \\times 128 N_{clusters}$."
   ]
  },
  {
   "cell_type": "code",
   "execution_count": 12,
   "metadata": {},
   "outputs": [],
   "source": [
    "def VLAD(database, clusters, clustereds):\n",
    "    vlad = []\n",
    "    for request, clustered in zip(database, clustereds):\n",
    "        v_request = []\n",
    "        for c in range(clusters.shape[0]):\n",
    "            v = 0\n",
    "            nn = request[clustered == c]\n",
    "            stack = np.tile(clusters.values[c], (nn.shape[0], 1))\n",
    "            v += np.sum(nn - stack, 0)\n",
    "            v_request.append(v)\n",
    "        vlad.append(np.array(v_request).flatten())\n",
    "    return normalize(np.array(vlad), norm=\"l2\")"
   ]
  },
  {
   "cell_type": "markdown",
   "metadata": {},
   "source": [
    "In the two cells bellow we calculate the MAP for VLAD descriptors based on a 64-cluster KMeans."
   ]
  },
  {
   "cell_type": "code",
   "execution_count": 13,
   "metadata": {},
   "outputs": [],
   "source": [
    "clustered = clustering(database, clusters[2]) #k=64\n",
    "vlad = VLAD(database, clusters[2], clustered)"
   ]
  },
  {
   "cell_type": "code",
   "execution_count": 14,
   "metadata": {},
   "outputs": [
    {
     "name": "stdout",
     "output_type": "stream",
     "text": [
      "MAP for VLAD : 0.2993765529075007\n"
     ]
    }
   ],
   "source": [
    "### Testing MAP of VLAD\n",
    "results = getAllSimilar(vlad, requests)\n",
    "true_vals = getTruthMatrix(requests, results, Nc)\n",
    "val = MAP(true_vals, results)\n",
    "print(\"MAP for VLAD : \" + str(val))"
   ]
  },
  {
   "cell_type": "markdown",
   "metadata": {},
   "source": [
    "In the loop bellow we collect the MAP results for all sizes of clusters, both for VLAD and BoW descriptors."
   ]
  },
  {
   "cell_type": "code",
   "execution_count": 15,
   "metadata": {},
   "outputs": [],
   "source": [
    "MAP_VLAD = []\n",
    "MAP_BOW  = []\n",
    "k        = []\n",
    "for cluster in clusters:\n",
    "    clustered = clustering(database, cluster)\n",
    "    \n",
    "    ### Testing MAP of BoW\n",
    "    bow = BoW(clustered, cluster.shape[0])\n",
    "    results = getAllSimilar(bow, requests)\n",
    "    true_vals = getTruthMatrix(requests, results, Nc)\n",
    "    val = MAP(true_vals, results)\n",
    "    MAP_BOW.append(val)\n",
    "    \n",
    "    ### Testing MAP of VLAD\n",
    "    vlad = VLAD(database, cluster, clustered)\n",
    "    results = getAllSimilar(vlad, requests)\n",
    "    true_vals = getTruthMatrix(requests, results, Nc)\n",
    "    val = MAP(true_vals, results)\n",
    "    MAP_VLAD.append(val)\n",
    "    \n",
    "    k.append(cluster.shape[0])"
   ]
  },
  {
   "cell_type": "markdown",
   "metadata": {},
   "source": [
    "In the plot bellow, we compare the performance of BoW and VLAD."
   ]
  },
  {
   "cell_type": "code",
   "execution_count": 18,
   "metadata": {},
   "outputs": [
    {
     "data": {
      "image/png": "[encoded data removed]",
      "text/plain": [
       "<Figure size 432x288 with 1 Axes>"
      ]
     },
     "metadata": {
      "needs_background": "light"
     },
     "output_type": "display_data"
    }
   ],
   "source": [
    "fig, ax = plt.subplots()\n",
    "ax.plot(k, MAP_BOW, 'r', label=\"BoW\")\n",
    "ax.plot(k, MAP_VLAD, 'b', label=\"VLAD\")\n",
    "ax.set_ylabel(\"MAP\")\n",
    "ax.set_xlabel(\"# clusters\")\n",
    "legend = ax.legend(loc='lower right', shadow=True, fontsize='x-large')\n",
    "plt.show()"
   ]
  },
  {
   "cell_type": "code",
   "execution_count": null,
   "metadata": {},
   "outputs": [],
   "source": []
  }
 ],
 "metadata": {
  "kernelspec": {
   "display_name": "Python 3",
   "language": "python",
   "name": "python3"
  },
  "language_info": {
   "codemirror_mode": {
    "name": "ipython",
    "version": 3
   },
   "file_extension": ".py",
   "mimetype": "text/x-python",
   "name": "python",
   "nbconvert_exporter": "python",
   "pygments_lexer": "ipython3",
   "version": "3.7.3"
  }
 },
 "nbformat": 4,
 "nbformat_minor": 2
}
