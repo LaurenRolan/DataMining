{
 "cells": [
  {
   "cell_type": "code",
   "execution_count": 1,
   "metadata": {},
   "outputs": [],
   "source": [
    "import cv2\n",
    "import numpy as np\n",
    "import scipy.spatial.distance as distance\n",
    "from sklearn.preprocessing import normalize\n",
    "import pandas as pd\n",
    "import time\n",
    "from sklearn.cluster import KMeans"
   ]
  },
  {
   "cell_type": "code",
   "execution_count": null,
   "metadata": {},
   "outputs": [],
   "source": [
    "database = []\n",
    "for image in range(1, 257):\n",
    "    descriptor = np.loadtxt(\"data/sifts/sift1to256/im\" + str(image) + \".txt\")\n",
    "    database.append(descriptor)\n",
    "print(database[0])"
   ]
  },
  {
   "cell_type": "code",
   "execution_count": null,
   "metadata": {},
   "outputs": [],
   "source": [
    "def BoW(requests, database, clusters):\n",
    "    K = clusters.shape[0]\n",
    "    kmeans_model = KMeans(n_clusters=K)\n",
    "    kmeans_model.cluster_centers_ = clusters\n",
    "    results = []\n",
    "    for request in requests:\n",
    "        results.append(kmeans_model.predict(database[request].reshape(1, -1)))\n",
    "results = BoW(requests, nbow, k8)"
   ]
  }
 ],
 "metadata": {
  "kernelspec": {
   "display_name": "Python 3",
   "language": "python",
   "name": "python3"
  },
  "language_info": {
   "codemirror_mode": {
    "name": "ipython",
    "version": 3
   },
   "file_extension": ".py",
   "mimetype": "text/x-python",
   "name": "python",
   "nbconvert_exporter": "python",
   "pygments_lexer": "ipython3",
   "version": "3.6.8"
  }
 },
 "nbformat": 4,
 "nbformat_minor": 2
}
